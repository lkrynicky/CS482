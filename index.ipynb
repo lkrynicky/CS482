{
 "cells": [
  {
   "attachments": {},
   "cell_type": "markdown",
   "metadata": {},
   "source": [
    "# Probability Assignment"
   ]
  },
  {
   "attachments": {},
   "cell_type": "markdown",
   "metadata": {},
   "source": [
    "To get full credit in this assignment you need to use `numpy`, `scipy` and `pandas` libraries. Sometimes you need to type equations - type equations in Latex math notation. To produce the plots you can use any plotting library you need.\n",
    "\n",
    "PS1: We run the assignment through chatGPT the questions and you will be referred to the Dean if we find that a robot answered your questions.\n",
    "\n",
    "PS2: We are also monitoring solution websites and we will take action against anyone that uploads this to a solution website."
   ]
  },
  {
   "attachments": {},
   "cell_type": "markdown",
   "metadata": {},
   "source": [
    "## Problem 1 (80 points)\n",
    "\n",
    "A surgeon analyzes surgical videos and models events that occur. He describes the problem statement in [here](https://thomasward.com/simulating-correlated-data/). Your job is to replicate the solution in Python and demonstrate your understanding of the steps performed by  including adequate explanation of the code in either markdown cells or inline to the code.  You can insert as many markdown or code cells you need to perform the analysis. \n",
    "\n",
    "\n",
    "## Question 1a (10 points)\n",
    "\n",
    "Write the code for generating the `gs` variable. This is the simplest random variable of the problem and can be generated independent of the others. "
   ]
  },
  {
   "cell_type": "code",
   "execution_count": 2,
   "metadata": {},
   "outputs": [],
   "source": [
    "import numpy as np\n",
    "import scipy as sp\n",
    "from scipy import stats as spstats ## for poission \n",
    "import pandas as pd\n",
    "## needed for graphing\n",
    "import matplotlib.pyplot as plt\n",
    "\n",
    "\n",
    "\n",
    "\n",
    "\n",
    "meanNorm = 7.25\n",
    "NormSpread = .825\n",
    "RanNumbers = 10000\n",
    "# Synax for random.normal: mean of normal distribution, spread, amout of RanNumbers\n",
    "gs = np.random.normal(meanNorm, NormSpread, RanNumbers)\n"
   ]
  },
  {
   "cell_type": "markdown",
   "metadata": {},
   "source": [
    "## Question 1b (20 points)\n",
    "\n",
    "We have three variables, `ak`, `pp`, and `ptime`. Write the code for generating these variables from Multivate Gaussian distribution and replicate the associated plots. \n",
    "\n"
   ]
  },
  {
   "cell_type": "code",
   "execution_count": 3,
   "metadata": {},
   "outputs": [],
   "source": [
    "import numpy as np\n",
    "import scipy as sp\n",
    "from scipy import stats as spstats ## for poission \n",
    "import pandas as pd\n",
    "## needed for graphing\n",
    "import matplotlib.pyplot as plt\n",
    "\n",
    "\n",
    "\n",
    "\n",
    "################################################################\n",
    "#creating sigma covariance matrix, data from the website\n",
    "mRow1 = [1.0, 0.6, -0.9]\n",
    "mRow2 = [0.6, 1.0, -0.5]\n",
    "mRow3 = [-0.9, -0.5, 1.0]\n",
    "\n",
    "mData = np.array([mRow1, mRow2, mRow3]) ## like a 3D array \n",
    "sigma = np.cov(mData, rowvar=False)\n",
    "## now sample the data and assign to APT \n",
    "mean = [.23, .36, -.13] ## calculated means\n",
    "APT = np.random.multivariate_normal(mean, sigma, 10000)\n",
    "\n",
    "\n",
    "################################################################\n",
    "# U AND PNORM\n",
    "\n",
    "# Cumlative distribution Function \n",
    "# scale = standard deviation and loc = mean \n",
    "# Probability integral transformation  \n",
    "U = spstats.norm.cdf(APT, loc=0, scale=1)\n",
    "\n",
    "\n",
    "# code for ak Possion Distribution\n",
    "# the R code: ak <- qpois(U[, 1], 5)\n",
    "# 5 is lambda\n",
    "# inverse Transform sampling, :  - all rows\n",
    "ak = spstats.poisson.ppf(U[:,0], mu=5)\n",
    "#lamdba/mean = 5;\n",
    "# U is the data \n",
    "\n",
    "# Ptime variable \n",
    "# ptime <- qnorm(U[, 3], 120, 30) quantiles of U\n",
    "pTime = spstats.norm.ppf(U[:,1], loc=120, scale=30)\n",
    "\n",
    "# pp variable\n",
    "# the R code: pp <- qpois(U[, 2], 15)\n",
    "# note: 15 is the lambda\n",
    "pp = spstats.poisson.ppf(U[:, 1], mu=15)"
   ]
  },
  {
   "cell_type": "markdown",
   "metadata": {},
   "source": [
    "## Question 1c (20 points)\n",
    "\n",
    "Perform the probability inrtegral transform and replicate the associated plots."
   ]
  },
  {
   "cell_type": "code",
   "execution_count": 7,
   "metadata": {},
   "outputs": [
    {
     "data": {
      "image/png": "[encoded data removed]",
      "text/plain": [
       "<Figure size 640x480 with 1 Axes>"
      ]
     },
     "metadata": {},
     "output_type": "display_data"
    }
   ],
   "source": [
    "import numpy as np\n",
    "import scipy as sp\n",
    "from scipy import stats as spstats ## for poission \n",
    "import pandas as pd\n",
    "## needed for graphing\n",
    "import matplotlib.pyplot as plt\n",
    "\n",
    "\n",
    "\n",
    "\n",
    "\n",
    "################################################################\n",
    "#creating sigma covariance matrix, data from the website\n",
    "mRow1 = [1.0, 0.6, -0.9]\n",
    "mRow2 = [0.6, 1.0, -0.5]\n",
    "mRow3 = [-0.9, -0.5, 1.0]\n",
    "\n",
    "mData = np.array([mRow1, mRow2, mRow3]) ## like a 3D array \n",
    "sigma = np.cov(mData, rowvar=False)\n",
    "## now sample the data and assign to APT \n",
    "mean = [.23, .36, -.13] ## calculated means\n",
    "APT = np.random.multivariate_normal(mean, sigma, 10000)\n",
    "\n",
    "################################################################\n",
    "# U AND PNORM\n",
    "\n",
    "# Cumlative distribution Function \n",
    "# scale = standard deviation and loc = mean \n",
    "# Probability integral transformation  \n",
    "U = spstats.norm.cdf(APT, loc=0, scale=1)\n",
    "\n",
    "## Labels\n",
    "plt.title('Histogram of U, first column')\n",
    "plt.xlabel('U, First column')\n",
    "plt.ylabel('Frequency')\n",
    "## data, you need to see it\n",
    "plt.hist(U[:,0], edgecolor='black')\n",
    "plt.show()\n",
    "\n",
    "\n",
    "\n",
    "\n"
   ]
  },
  {
   "cell_type": "markdown",
   "metadata": {},
   "source": [
    "## Question 1d (20 points)\n",
    "\n",
    "Perform the inverse transform sampling."
   ]
  },
  {
   "cell_type": "code",
   "execution_count": 11,
   "metadata": {},
   "outputs": [
    {
     "data": {
      "image/png": "[encoded data removed]",
      "text/plain": [
       "<Figure size 640x480 with 1 Axes>"
      ]
     },
     "metadata": {},
     "output_type": "display_data"
    }
   ],
   "source": [
    "import numpy as np\n",
    "import scipy as sp\n",
    "from scipy import stats as spstats ## for poission \n",
    "import pandas as pd\n",
    "## needed for graphing\n",
    "import matplotlib.pyplot as plt\n",
    "\n",
    "\n",
    "\n",
    "\n",
    "\n",
    "meanNorm = 7.25\n",
    "NormSpread = .825\n",
    "RanNumbers = 10000\n",
    "# Synax for random.normal: mean of normal distribution, spread, amout of RanNumbers\n",
    "gs = np.random.normal(meanNorm, NormSpread, RanNumbers)\n",
    "\n",
    "\n",
    "################################################################\n",
    "#creating sigma covariance matrix, data from the website\n",
    "mRow1 = [1.0, 0.6, -0.9]\n",
    "mRow2 = [0.6, 1.0, -0.5]\n",
    "mRow3 = [-0.9, -0.5, 1.0]\n",
    "\n",
    "mData = np.array([mRow1, mRow2, mRow3]) ## like a 3D array \n",
    "sigma = np.cov(mData, rowvar=False)\n",
    "## now sample the data and assign to APT \n",
    "mean = [.23, .36, -.13] ## calculated means\n",
    "APT = np.random.multivariate_normal(mean, sigma, 10000)\n",
    "\n",
    "################################################################\n",
    "# U AND PNORM\n",
    "\n",
    "# Cumlative distribution Function \n",
    "# scale = standard deviation and loc = mean \n",
    "# Probability integral transformation  \n",
    "U = spstats.norm.cdf(APT, loc=0, scale=1)\n",
    "\n",
    "\n",
    "\n",
    "\n",
    "# code for ak Possion Distribution\n",
    "# the R code: ak <- qpois(U[, 1], 5)\n",
    "# 5 is lambda\n",
    "# inverse Transform sampling, :  - all rows\n",
    "ak = spstats.poisson.ppf(U[:,0], mu=5)\n",
    "#lamdba/mean = 5;\n",
    "# U is the data \n",
    "\n",
    "## Labels\n",
    "plt.xlabel('Number of airknots in a case')\n",
    "plt.ylabel('Frequency')\n",
    "plt.title('Histogram of ak Values')\n",
    "## data, you need to see it\n",
    "plt.hist(ak, edgecolor='black')\n",
    "plt.show()\n"
   ]
  },
  {
   "cell_type": "markdown",
   "metadata": {},
   "source": [
    "## Question 1e (10 points)\n",
    "\n",
    "Replicate the final plot showcasing the correlations between the variables.\n"
   ]
  },
  {
   "cell_type": "code",
   "execution_count": null,
   "metadata": {},
   "outputs": [],
   "source": [
    "#Code here"
   ]
  },
  {
   "cell_type": "markdown",
   "metadata": {},
   "source": [
    "## Problem 2 (20 points)\n",
    "\n",
    "You now pretend that the $n=4$ dimensional data you generated in Problem 1 arrive sequentially one at a time (the co-called **online** learning setting). Introduce the index $i$ to represent the ith arriving data sample $\\mathbf x_i$. \n",
    "\n",
    "1. Write the expression of the *sample* correlation matrix (5 points)\n",
    "2. Write the expression of the sample correlation matrix that can be estimated recursively and plot the elements of the sample correlation matrix from $i=1$ to $i=100$ (15 points)"
   ]
  },
  {
   "cell_type": "code",
   "execution_count": null,
   "metadata": {},
   "outputs": [],
   "source": [
    "#Code here"
   ]
  }
 ],
 "metadata": {
  "kernelspec": {
   "display_name": "Python 3.10.4 64-bit",
   "language": "python",
   "name": "python3"
  },
  "language_info": {
   "codemirror_mode": {
    "name": "ipython",
    "version": 3
   },
   "file_extension": ".py",
   "mimetype": "text/x-python",
   "name": "python",
   "nbconvert_exporter": "python",
   "pygments_lexer": "ipython3",
   "version": "3.10.6"
  },
  "orig_nbformat": 4,
  "vscode": {
   "interpreter": {
    "hash": "31f2aee4e71d21fbe5cf8b01ff0e069b9275f58929596ceb00d14d90e3e16cd6"
   }
  }
 },
 "nbformat": 4,
 "nbformat_minor": 2
}
